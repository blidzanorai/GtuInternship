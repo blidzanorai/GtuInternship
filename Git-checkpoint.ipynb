{
 "cells": [
  {
   "cell_type": "code",
   "execution_count": 13,
   "id": "a298ac68",
   "metadata": {},
   "outputs": [
    {
     "data": {
      "text/plain": [
       "array([[  0., 100.,  78., 342.],\n",
       "       [  1.,  11.,  62., 191.],\n",
       "       [  2.,   8.,  85., 252.],\n",
       "       [  3.,  71.,  24., 307.],\n",
       "       [  4., 104.,  17., 229.],\n",
       "       [  5.,  18., 104., 246.],\n",
       "       [  6.,   8.,  76., 226.],\n",
       "       [  7.,  86.,  74., 288.],\n",
       "       [  8.,  12.,  60., 216.],\n",
       "       [  9.,  25.,  90., 304.],\n",
       "       [ 10.,  56.,   6., 272.],\n",
       "       [ 11.,  88.,  69., 302.],\n",
       "       [ 12., 147.,  65., 312.],\n",
       "       [ 13., 121., 146., 370.],\n",
       "       [ 15.,  99., 110., 362.]])"
      ]
     },
     "execution_count": 13,
     "metadata": {},
     "output_type": "execute_result"
    }
   ],
   "source": [
    "import numpy as np\n",
    "cric_data = np.loadtxt(\"cric.txt\", skiprows = 1)\n",
    "cric_data"
   ]
  },
  {
   "cell_type": "code",
   "execution_count": 16,
   "id": "f027a8c3",
   "metadata": {},
   "outputs": [
    {
     "data": {
      "text/plain": [
       "(15, 4)"
      ]
     },
     "execution_count": 16,
     "metadata": {},
     "output_type": "execute_result"
    }
   ],
   "source": [
    "cric_data.shape"
   ]
  },
  {
   "cell_type": "code",
   "execution_count": 22,
   "id": "ff6c0e11",
   "metadata": {},
   "outputs": [
    {
     "name": "stdout",
     "output_type": "stream",
     "text": [
      "[100.  11.   8.  71. 104.  18.   8.  86.  12.  25.  56.  88. 147. 121.\n",
      "  99.]\n",
      "[ 78.  62.  85.  24.  17. 104.  76.  74.  60.  90.   6.  69.  65. 146.\n",
      " 110.]\n",
      "[342. 191. 252. 307. 229. 246. 226. 288. 216. 304. 272. 302. 312. 370.\n",
      " 362.]\n"
     ]
    }
   ],
   "source": [
    "s = cric_data[:,1]\n",
    "d = cric_data[:,2]\n",
    "I = cric_data[:,3\n",
    "             ]\n",
    "print(s)\n",
    "print(d)\n",
    "print(I)"
   ]
  },
  {
   "cell_type": "code",
   "execution_count": 25,
   "id": "4f534340",
   "metadata": {},
   "outputs": [
    {
     "name": "stdout",
     "output_type": "stream",
     "text": [
      "63.6\n",
      "71.06666666666666\n",
      "281.26666666666665\n"
     ]
    }
   ],
   "source": [
    "print(np.mean(s))\n",
    "print(np.mean(d))\n",
    "print(np.mean(I))"
   ]
  },
  {
   "cell_type": "code",
   "execution_count": 27,
   "id": "4fb8f209",
   "metadata": {},
   "outputs": [
    {
     "name": "stdout",
     "output_type": "stream",
     "text": [
      "71.0\n",
      "74.0\n",
      "288.0\n"
     ]
    }
   ],
   "source": [
    "print(np.median(s))\n",
    "print(np.median(d))\n",
    "print(np.median(I))"
   ]
  },
  {
   "cell_type": "code",
   "execution_count": 30,
   "id": "08ee36de",
   "metadata": {},
   "outputs": [
    {
     "name": "stdout",
     "output_type": "stream",
     "text": [
      "63.6\n",
      "71.06666666666666\n",
      "281.26666666666665\n"
     ]
    }
   ],
   "source": [
    "print(np.average(s))\n",
    "print(np.average(d))\n",
    "print(np.average(I))"
   ]
  },
  {
   "cell_type": "code",
   "execution_count": null,
   "id": "0e4475c3",
   "metadata": {},
   "outputs": [],
   "source": []
  }
 ],
 "metadata": {
  "kernelspec": {
   "display_name": "Python 3 (ipykernel)",
   "language": "python",
   "name": "python3"
  },
  "language_info": {
   "codemirror_mode": {
    "name": "ipython",
    "version": 3
   },
   "file_extension": ".py",
   "mimetype": "text/x-python",
   "name": "python",
   "nbconvert_exporter": "python",
   "pygments_lexer": "ipython3",
   "version": "3.9.13"
  }
 },
 "nbformat": 4,
 "nbformat_minor": 5
}
